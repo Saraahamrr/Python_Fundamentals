{
 "cells": [
  {
   "cell_type": "markdown",
   "id": "80796bf8",
   "metadata": {},
   "source": [
    "### 1) Remove the first occurance of 20"
   ]
  },
  {
   "cell_type": "code",
   "execution_count": 1,
   "id": "23d5f483",
   "metadata": {},
   "outputs": [],
   "source": [
    "a = [10, 20, 30, 20, 40, 50]"
   ]
  },
  {
   "cell_type": "code",
   "execution_count": 2,
   "id": "f0340733",
   "metadata": {},
   "outputs": [],
   "source": [
    "a.remove(20)"
   ]
  },
  {
   "cell_type": "code",
   "execution_count": 3,
   "id": "e6ce0570",
   "metadata": {
    "scrolled": true
   },
   "outputs": [
    {
     "name": "stdout",
     "output_type": "stream",
     "text": [
      "a =  [10, 30, 20, 40, 50]\n"
     ]
    }
   ],
   "source": [
    "print(\"a = \" , a)"
   ]
  },
  {
   "cell_type": "markdown",
   "id": "1ecca4ff",
   "metadata": {},
   "source": [
    "### 2) Remove element at index 1 and return its value in val"
   ]
  },
  {
   "cell_type": "code",
   "execution_count": 4,
   "id": "dcc01edc",
   "metadata": {},
   "outputs": [],
   "source": [
    "val = a.pop(1)"
   ]
  },
  {
   "cell_type": "code",
   "execution_count": 5,
   "id": "3c817edb",
   "metadata": {},
   "outputs": [
    {
     "name": "stdout",
     "output_type": "stream",
     "text": [
      "val is :  30\n"
     ]
    }
   ],
   "source": [
    "print(\"val is : \" , val)"
   ]
  },
  {
   "cell_type": "markdown",
   "id": "b0c1d48e",
   "metadata": {},
   "source": [
    "### 4) Removes elements from index 1 to index 3 "
   ]
  },
  {
   "cell_type": "code",
   "execution_count": 6,
   "id": "1ccaf5f2",
   "metadata": {},
   "outputs": [],
   "source": [
    "a = [10, 20, 30, 40, 50, 60, 70]"
   ]
  },
  {
   "cell_type": "code",
   "execution_count": 7,
   "id": "0b1df234",
   "metadata": {},
   "outputs": [],
   "source": [
    "del a[1:4]"
   ]
  },
  {
   "cell_type": "code",
   "execution_count": 8,
   "id": "47b1c189",
   "metadata": {},
   "outputs": [
    {
     "name": "stdout",
     "output_type": "stream",
     "text": [
      "a =  [10, 50, 60, 70]\n"
     ]
    }
   ],
   "source": [
    "print(\"a = \" , a)"
   ]
  },
  {
   "cell_type": "markdown",
   "id": "64a0fb57",
   "metadata": {},
   "source": [
    "### 4) Remove all elements"
   ]
  },
  {
   "cell_type": "code",
   "execution_count": 9,
   "id": "a4232307",
   "metadata": {},
   "outputs": [],
   "source": [
    "a = [10, 20, 30, 40, 50, 60, 70]"
   ]
  },
  {
   "cell_type": "code",
   "execution_count": 10,
   "id": "0235c514",
   "metadata": {},
   "outputs": [],
   "source": [
    "a.clear()"
   ]
  },
  {
   "cell_type": "code",
   "execution_count": 11,
   "id": "09c85b9d",
   "metadata": {},
   "outputs": [
    {
     "name": "stdout",
     "output_type": "stream",
     "text": [
      "a =  []\n"
     ]
    }
   ],
   "source": [
    "print(\"a = \" , a)"
   ]
  },
  {
   "cell_type": "markdown",
   "id": "91ff9e0e",
   "metadata": {},
   "source": [
    "### 5) Write a program that prints the number of times the substring 'iti' occurs in a string"
   ]
  },
  {
   "cell_type": "code",
   "execution_count": 12,
   "id": "7e12af09",
   "metadata": {},
   "outputs": [],
   "source": [
    "string = \"iti\""
   ]
  },
  {
   "cell_type": "code",
   "execution_count": 13,
   "id": "39d4dc7e",
   "metadata": {},
   "outputs": [
    {
     "name": "stdout",
     "output_type": "stream",
     "text": [
      "Count of i :  2\n"
     ]
    }
   ],
   "source": [
    "print(\"Count of i : \" , string.count(\"i\"))"
   ]
  },
  {
   "cell_type": "markdown",
   "id": "8544c39b",
   "metadata": {},
   "source": [
    "### 6) Application to take a number in binary form from the user, and print it as a decimal"
   ]
  },
  {
   "cell_type": "code",
   "execution_count": 14,
   "id": "25953113",
   "metadata": {},
   "outputs": [
    {
     "name": "stdout",
     "output_type": "stream",
     "text": [
      "Enter a Random binary number to see it as a decimal number 101\n"
     ]
    }
   ],
   "source": [
    "binary = input(\"Enter a Random binary number to see it as a decimal number \")"
   ]
  },
  {
   "cell_type": "code",
   "execution_count": 15,
   "id": "47d121d2",
   "metadata": {},
   "outputs": [],
   "source": [
    "decimal = int(binary,2)"
   ]
  },
  {
   "cell_type": "code",
   "execution_count": 16,
   "id": "8b764dd9",
   "metadata": {},
   "outputs": [
    {
     "name": "stdout",
     "output_type": "stream",
     "text": [
      "Here's your decimal number :  5\n"
     ]
    }
   ],
   "source": [
    "print(\"Here's your decimal number : \" , decimal)"
   ]
  },
  {
   "cell_type": "markdown",
   "id": "d3890f14",
   "metadata": {},
   "source": [
    "### 7) write a code take a number as an argument and if the number divisible by 3 return \"Fizz\" and if it is divisible by 5 return \"buzz\" and if is is divisible by both return \"FizzBuzz\""
   ]
  },
  {
   "cell_type": "code",
   "execution_count": 17,
   "id": "ebe23deb",
   "metadata": {},
   "outputs": [
    {
     "name": "stdout",
     "output_type": "stream",
     "text": [
      "Enter your number : 17\n"
     ]
    }
   ],
   "source": [
    "number = int(input(\"Enter your number : \"))"
   ]
  },
  {
   "cell_type": "code",
   "execution_count": 18,
   "id": "dceb45e0",
   "metadata": {},
   "outputs": [
    {
     "name": "stdout",
     "output_type": "stream",
     "text": [
      "Number is not divisible on 3 or 5\n"
     ]
    }
   ],
   "source": [
    "if number % 3 == 0:\n",
    "    print (\"fizz\")\n",
    "elif number % 5 == 0:\n",
    "    print (\"buzz\")\n",
    "elif number % 3 == 0 and number % 5 == 0:\n",
    "    print (\"FizzBuzz\")\n",
    "else:\n",
    "    print (\"Number is not divisible on 3 or 5\")"
   ]
  },
  {
   "cell_type": "markdown",
   "id": "38c49387",
   "metadata": {},
   "source": [
    "### 8) Ask the user to enter the radius of a circle print its calculated area and circumference"
   ]
  },
  {
   "cell_type": "code",
   "execution_count": 19,
   "id": "ce45de8c",
   "metadata": {
    "scrolled": true
   },
   "outputs": [
    {
     "name": "stdout",
     "output_type": "stream",
     "text": [
      "Enter the radius of your circle :1.7\n"
     ]
    }
   ],
   "source": [
    "radius = float(input(\"Enter the radius of your circle :\"))"
   ]
  },
  {
   "cell_type": "code",
   "execution_count": 20,
   "id": "b7a337aa",
   "metadata": {},
   "outputs": [],
   "source": [
    "area = 3.14159 * radius ** 2"
   ]
  },
  {
   "cell_type": "code",
   "execution_count": 21,
   "id": "12713a03",
   "metadata": {},
   "outputs": [],
   "source": [
    "circumference = 2 * 3.14159 * radius"
   ]
  },
  {
   "cell_type": "code",
   "execution_count": 22,
   "id": "8f643377",
   "metadata": {},
   "outputs": [
    {
     "name": "stdout",
     "output_type": "stream",
     "text": [
      "Area =  9.079195099999998\n"
     ]
    }
   ],
   "source": [
    "print (\"Area = \", area)"
   ]
  },
  {
   "cell_type": "code",
   "execution_count": 23,
   "id": "5b38e5fd",
   "metadata": {},
   "outputs": [
    {
     "name": "stdout",
     "output_type": "stream",
     "text": [
      "circumference =  10.681405999999999\n"
     ]
    }
   ],
   "source": [
    "print(\"circumference = \",circumference)"
   ]
  },
  {
   "cell_type": "markdown",
   "id": "cb504df0",
   "metadata": {},
   "source": [
    "### 9) Ask the user for his name then confirm that he has entered his name (not an empty string/integers).then proceed to ask him for his email and print all this data"
   ]
  },
  {
   "cell_type": "code",
   "execution_count": 24,
   "id": "22e4a97d",
   "metadata": {},
   "outputs": [
    {
     "name": "stdout",
     "output_type": "stream",
     "text": [
      "Please Enter your USERNAME : Sarah\n"
     ]
    }
   ],
   "source": [
    "username = input(\"Please Enter your USERNAME : \")"
   ]
  },
  {
   "cell_type": "code",
   "execution_count": 25,
   "id": "a20166d7",
   "metadata": {},
   "outputs": [
    {
     "name": "stdout",
     "output_type": "stream",
     "text": [
      "Please Enter your EMAIL : saraahamrr98@gmail.com\n",
      "Your username =  Sarah\n",
      "Your Email =  saraahamrr98@gmail.com\n"
     ]
    }
   ],
   "source": [
    "while not username or username.isdigit():\n",
    "    username = input(\"Please Enter your USERNAME : \")\n",
    "    \n",
    "Email = input(\"Please Enter your EMAIL : \")\n",
    "print (\"Your username = \", username)\n",
    "print (\"Your Email = \", Email)\n",
    "        "
   ]
  }
 ],
 "metadata": {
  "kernelspec": {
   "display_name": "Python 3 (ipykernel)",
   "language": "python",
   "name": "python3"
  },
  "language_info": {
   "codemirror_mode": {
    "name": "ipython",
    "version": 3
   },
   "file_extension": ".py",
   "mimetype": "text/x-python",
   "name": "python",
   "nbconvert_exporter": "python",
   "pygments_lexer": "ipython3",
   "version": "3.12.3"
  }
 },
 "nbformat": 4,
 "nbformat_minor": 5
}

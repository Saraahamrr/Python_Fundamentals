{
 "cells": [
  {
   "cell_type": "markdown",
   "id": "61bd9f58",
   "metadata": {},
   "source": [
    "## Question 1 :"
   ]
  },
  {
   "cell_type": "markdown",
   "id": "e9a339c9",
   "metadata": {},
   "source": [
    "### Write a simple calculator program"
   ]
  },
  {
   "cell_type": "code",
   "execution_count": 5,
   "id": "628fb7a9",
   "metadata": {},
   "outputs": [],
   "source": [
    "def calculator(a,b,operation):\n",
    "    match operation:\n",
    "        case \"add\":\n",
    "            print (a+b)\n",
    "        case \"sub\":\n",
    "            print (a-b)\n",
    "        case \"divide\":\n",
    "            print (a/b)\n",
    "        case \"multi\":\n",
    "            print(a*b)\n",
    "        "
   ]
  },
  {
   "cell_type": "code",
   "execution_count": 6,
   "id": "621c62af",
   "metadata": {},
   "outputs": [],
   "source": [
    "a,b = 10 ,5 "
   ]
  },
  {
   "cell_type": "code",
   "execution_count": 7,
   "id": "8305bb10",
   "metadata": {},
   "outputs": [],
   "source": [
    "operation = \"add\""
   ]
  },
  {
   "cell_type": "code",
   "execution_count": 8,
   "id": "1e78142b",
   "metadata": {},
   "outputs": [
    {
     "name": "stdout",
     "output_type": "stream",
     "text": [
      "15\n"
     ]
    }
   ],
   "source": [
    "calculator(a , b ,operation)"
   ]
  },
  {
   "cell_type": "code",
   "execution_count": 9,
   "id": "fd02ced3",
   "metadata": {
    "scrolled": true
   },
   "outputs": [
    {
     "name": "stdout",
     "output_type": "stream",
     "text": [
      "3.0\n"
     ]
    }
   ],
   "source": [
    "calculator(15 , 5 ,\"divide\")"
   ]
  },
  {
   "cell_type": "markdown",
   "id": "1e3a2768",
   "metadata": {},
   "source": [
    "## Question 2 :"
   ]
  },
  {
   "cell_type": "markdown",
   "id": "aa2efe11",
   "metadata": {},
   "source": [
    "### Write a program to filter out even numbers from a list and count how many are left."
   ]
  },
  {
   "cell_type": "code",
   "execution_count": 10,
   "id": "35722391",
   "metadata": {},
   "outputs": [],
   "source": [
    "##def is_even(n):\n",
    "     ##  return n % 2 == 0"
   ]
  },
  {
   "cell_type": "code",
   "execution_count": null,
   "id": "356808a1",
   "metadata": {},
   "outputs": [],
   "source": []
  },
  {
   "cell_type": "code",
   "execution_count": 11,
   "id": "bc4d5f4c",
   "metadata": {},
   "outputs": [],
   "source": [
    "##numbers = [1, 2, 3, 4, 5, 6, 7, 8, 9, 10]"
   ]
  },
  {
   "cell_type": "code",
   "execution_count": null,
   "id": "c2c5aea1",
   "metadata": {},
   "outputs": [],
   "source": []
  },
  {
   "cell_type": "markdown",
   "id": "e25becc8",
   "metadata": {},
   "source": [
    "## Question 3 :"
   ]
  },
  {
   "cell_type": "markdown",
   "id": "7a8b0971",
   "metadata": {},
   "source": [
    "### Write a program to check if a password meets the criteria\n"
   ]
  },
  {
   "cell_type": "code",
   "execution_count": 12,
   "id": "2e67acaf",
   "metadata": {},
   "outputs": [
    {
     "name": "stdout",
     "output_type": "stream",
     "text": [
      "Enter Password : Pass1234\n"
     ]
    }
   ],
   "source": [
    "password = input(\"Enter Password : \")"
   ]
  },
  {
   "cell_type": "code",
   "execution_count": 13,
   "id": "ae4062f7",
   "metadata": {},
   "outputs": [
    {
     "name": "stdout",
     "output_type": "stream",
     "text": [
      "valid password\n"
     ]
    }
   ],
   "source": [
    "if len(password) < 8 :\n",
    "    print(\"invalid password\")\n",
    "else:\n",
    "    upper=0\n",
    "    digit=0\n",
    "    for i in password :\n",
    "        if i.isupper():\n",
    "            upper+=1\n",
    "        if i.isdigit():\n",
    "            digit+=1\n",
    "    if upper>0 and digit>0 :\n",
    "        print(\"valid password\")\n",
    "    else : \n",
    "        print(\"invalid password\")\n"
   ]
  },
  {
   "cell_type": "markdown",
   "id": "0eee5863",
   "metadata": {},
   "source": [
    "## Question 4 :"
   ]
  },
  {
   "cell_type": "markdown",
   "id": "6a1b1f8b",
   "metadata": {},
   "source": [
    "### Write a Python script to concatenate the following dictionaries to create a new one."
   ]
  },
  {
   "cell_type": "code",
   "execution_count": 14,
   "id": "b7c9d551",
   "metadata": {},
   "outputs": [],
   "source": [
    "dic1={1:10, 2:20}\n",
    "dic2={3:30, 4:40}\n",
    "dic3={5:50,6:60}"
   ]
  },
  {
   "cell_type": "code",
   "execution_count": 15,
   "id": "d15d79fb",
   "metadata": {},
   "outputs": [],
   "source": [
    "dic4 = dic1 | dic2 | dic3"
   ]
  },
  {
   "cell_type": "code",
   "execution_count": 16,
   "id": "0de305b5",
   "metadata": {},
   "outputs": [
    {
     "name": "stdout",
     "output_type": "stream",
     "text": [
      "{1: 10, 2: 20, 3: 30, 4: 40, 5: 50, 6: 60}\n"
     ]
    }
   ],
   "source": [
    "print(dic4)"
   ]
  },
  {
   "cell_type": "markdown",
   "id": "4a1638bc",
   "metadata": {},
   "source": [
    "## Question 5 :"
   ]
  },
  {
   "cell_type": "markdown",
   "id": "6cdfd8cc",
   "metadata": {},
   "source": [
    "### Write a Python script to take a string and prints the longest alphabetical ordered substring occured."
   ]
  },
  {
   "cell_type": "code",
   "execution_count": 18,
   "id": "ed983211",
   "metadata": {},
   "outputs": [
    {
     "name": "stdout",
     "output_type": "stream",
     "text": [
      "Enter String : Sarah\n"
     ]
    }
   ],
   "source": [
    "string = input(\"Enter String : \")"
   ]
  },
  {
   "cell_type": "markdown",
   "id": "7b5faaef",
   "metadata": {},
   "source": [
    "## Question 6 :"
   ]
  },
  {
   "cell_type": "markdown",
   "id": "1ee5695c",
   "metadata": {},
   "source": [
    "### Write a program to check if a Email meets the  criteria"
   ]
  },
  {
   "cell_type": "code",
   "execution_count": 19,
   "id": "da29f381",
   "metadata": {},
   "outputs": [
    {
     "name": "stdout",
     "output_type": "stream",
     "text": [
      "Enter email : sarah@gmail\n"
     ]
    }
   ],
   "source": [
    "email = input(\"Enter email : \")"
   ]
  },
  {
   "cell_type": "code",
   "execution_count": 20,
   "id": "a7be0a72",
   "metadata": {},
   "outputs": [
    {
     "name": "stdout",
     "output_type": "stream",
     "text": [
      "invalid email\n"
     ]
    }
   ],
   "source": [
    "if email.count(\"@\") != 1 or not email.endswith(\".com\"):\n",
    "    print(\"invalid email\")\n",
    "else :\n",
    "    print (\"valid email\")"
   ]
  }
 ],
 "metadata": {
  "kernelspec": {
   "display_name": "Python 3 (ipykernel)",
   "language": "python",
   "name": "python3"
  },
  "language_info": {
   "codemirror_mode": {
    "name": "ipython",
    "version": 3
   },
   "file_extension": ".py",
   "mimetype": "text/x-python",
   "name": "python",
   "nbconvert_exporter": "python",
   "pygments_lexer": "ipython3",
   "version": "3.12.3"
  }
 },
 "nbformat": 4,
 "nbformat_minor": 5
}

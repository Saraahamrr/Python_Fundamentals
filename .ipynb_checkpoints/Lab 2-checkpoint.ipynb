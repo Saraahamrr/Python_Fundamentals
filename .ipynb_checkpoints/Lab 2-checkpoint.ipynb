{
 "cells": [
  {
   "cell_type": "markdown",
   "id": "61bd9f58",
   "metadata": {},
   "source": [
    "## Question 1 :"
   ]
  },
  {
   "cell_type": "markdown",
   "id": "e9a339c9",
   "metadata": {},
   "source": [
    "### Write a simple calculator program"
   ]
  },
  {
   "cell_type": "code",
   "execution_count": 5,
   "id": "628fb7a9",
   "metadata": {},
   "outputs": [],
   "source": [
    "def calculator(a,b,operation):\n",
    "    match operation:\n",
    "        case \"add\":\n",
    "            print (a+b)\n",
    "        case \"sub\":\n",
    "            print (a-b)\n",
    "        case \"divide\":\n",
    "            print (a/b)\n",
    "        case \"multi\":\n",
    "            print(a*b)\n",
    "        "
   ]
  },
  {
   "cell_type": "code",
   "execution_count": 6,
   "id": "621c62af",
   "metadata": {},
   "outputs": [],
   "source": [
    "a,b = 10 ,5 "
   ]
  },
  {
   "cell_type": "code",
   "execution_count": 7,
   "id": "8305bb10",
   "metadata": {},
   "outputs": [],
   "source": [
    "operation = \"add\""
   ]
  },
  {
   "cell_type": "code",
   "execution_count": 8,
   "id": "1e78142b",
   "metadata": {},
   "outputs": [
    {
     "name": "stdout",
     "output_type": "stream",
     "text": [
      "15\n"
     ]
    }
   ],
   "source": [
    "calculator(a , b ,operation)"
   ]
  },
  {
   "cell_type": "code",
   "execution_count": 9,
   "id": "fd02ced3",
   "metadata": {
    "scrolled": true
   },
   "outputs": [
    {
     "name": "stdout",
     "output_type": "stream",
     "text": [
      "3.0\n"
     ]
    }
   ],
   "source": [
    "calculator(15 , 5 ,\"divide\")"
   ]
  },
  {
   "cell_type": "markdown",
   "id": "1e3a2768",
   "metadata": {},
   "source": [
    "## Question 2 :"
   ]
  },
  {
   "cell_type": "markdown",
   "id": "aa2efe11",
   "metadata": {},
   "source": [
    "### Write a program to filter out even numbers from a list and count how many are left."
   ]
  },
  {
   "cell_type": "code",
   "execution_count": 47,
   "id": "accdabd7",
   "metadata": {},
   "outputs": [],
   "source": [
    "def filterEVEN_countingODD(n):\n",
    "    even = []\n",
    "    odd = []\n",
    "    while len(numbers) > 0:\n",
    "        number = numbers.pop()\n",
    "        if number %2 ==0:\n",
    "            even.append(number)\n",
    "        else :\n",
    "            odd.append(number)\n",
    "    print(even)\n",
    "    print (len(odd))"
   ]
  },
  {
   "cell_type": "code",
   "execution_count": 49,
   "id": "319dbf81",
   "metadata": {},
   "outputs": [],
   "source": [
    "numbers = [1, 2, 3, 4, 5, 6, 7, 8, 9, 10]"
   ]
  },
  {
   "cell_type": "code",
   "execution_count": 50,
   "id": "f5c179a5",
   "metadata": {
    "scrolled": false
   },
   "outputs": [
    {
     "name": "stdout",
     "output_type": "stream",
     "text": [
      "[10, 8, 6, 4, 2]\n",
      "5\n"
     ]
    }
   ],
   "source": [
    "filterEVEN_countingODD(numbers)"
   ]
  },
  {
   "cell_type": "markdown",
   "id": "e25becc8",
   "metadata": {},
   "source": [
    "## Question 3 :"
   ]
  },
  {
   "cell_type": "markdown",
   "id": "7a8b0971",
   "metadata": {},
   "source": [
    "### Write a program to check if a password meets the criteria\n"
   ]
  },
  {
   "cell_type": "code",
   "execution_count": 12,
   "id": "2e67acaf",
   "metadata": {},
   "outputs": [
    {
     "name": "stdout",
     "output_type": "stream",
     "text": [
      "Enter Password : Pass1234\n"
     ]
    }
   ],
   "source": [
    "password = input(\"Enter Password : \")"
   ]
  },
  {
   "cell_type": "code",
   "execution_count": 13,
   "id": "ae4062f7",
   "metadata": {},
   "outputs": [
    {
     "name": "stdout",
     "output_type": "stream",
     "text": [
      "valid password\n"
     ]
    }
   ],
   "source": [
    "if len(password) < 8 :\n",
    "    print(\"invalid password\")\n",
    "else:\n",
    "    upper=0\n",
    "    digit=0\n",
    "    for i in password :\n",
    "        if i.isupper():\n",
    "            upper+=1\n",
    "        if i.isdigit():\n",
    "            digit+=1\n",
    "    if upper>0 and digit>0 :\n",
    "        print(\"valid password\")\n",
    "    else : \n",
    "        print(\"invalid password\")\n"
   ]
  },
  {
   "cell_type": "markdown",
   "id": "0eee5863",
   "metadata": {},
   "source": [
    "## Question 4 :"
   ]
  },
  {
   "cell_type": "markdown",
   "id": "6a1b1f8b",
   "metadata": {},
   "source": [
    "### Write a Python script to concatenate the following dictionaries to create a new one."
   ]
  },
  {
   "cell_type": "code",
   "execution_count": 14,
   "id": "b7c9d551",
   "metadata": {},
   "outputs": [],
   "source": [
    "dic1={1:10, 2:20}\n",
    "dic2={3:30, 4:40}\n",
    "dic3={5:50,6:60}"
   ]
  },
  {
   "cell_type": "code",
   "execution_count": 15,
   "id": "d15d79fb",
   "metadata": {},
   "outputs": [],
   "source": [
    "dic4 = dic1 | dic2 | dic3"
   ]
  },
  {
   "cell_type": "code",
   "execution_count": 16,
   "id": "0de305b5",
   "metadata": {},
   "outputs": [
    {
     "name": "stdout",
     "output_type": "stream",
     "text": [
      "{1: 10, 2: 20, 3: 30, 4: 40, 5: 50, 6: 60}\n"
     ]
    }
   ],
   "source": [
    "print(dic4)"
   ]
  },
  {
   "cell_type": "markdown",
   "id": "4a1638bc",
   "metadata": {},
   "source": [
    "## Question 5 :"
   ]
  },
  {
   "cell_type": "markdown",
   "id": "6cdfd8cc",
   "metadata": {},
   "source": [
    "### Write a Python script to take a string and prints the longest alphabetical ordered substring occured."
   ]
  },
  {
   "cell_type": "code",
   "execution_count": 18,
   "id": "36f57db5",
   "metadata": {
    "scrolled": true
   },
   "outputs": [
    {
     "name": "stdout",
     "output_type": "stream",
     "text": [
      "Enter String : Sarah\n"
     ]
    }
   ],
   "source": [
    "string = input(\"Enter String : \")"
   ]
  },
  {
   "cell_type": "code",
   "execution_count": 23,
   "id": "efc1beb2",
   "metadata": {},
   "outputs": [],
   "source": [
    "current_sub = string[0]"
   ]
  },
  {
   "cell_type": "code",
   "execution_count": 24,
   "id": "59761d16",
   "metadata": {},
   "outputs": [],
   "source": [
    "longest_sub = string[0]"
   ]
  },
  {
   "cell_type": "code",
   "execution_count": 29,
   "id": "e564adcd",
   "metadata": {},
   "outputs": [],
   "source": [
    "for i in range(1,len(string)):\n",
    "    prev_iteration = string[i-1]\n",
    "    curr_iteation = string[i]\n",
    "    if curr_iteation >= prev_iteration :\n",
    "        current_sub += curr_iteation\n",
    "        if len(current_sub) > len(longest_sub):\n",
    "            longest_sub = current_sub\n",
    "    else:\n",
    "        current_sub = curr_iteation"
   ]
  },
  {
   "cell_type": "code",
   "execution_count": 30,
   "id": "4997a325",
   "metadata": {},
   "outputs": [
    {
     "name": "stdout",
     "output_type": "stream",
     "text": [
      "The longest substring is :  Sar\n"
     ]
    }
   ],
   "source": [
    "print (\"The longest substring is : \",longest_sub)"
   ]
  },
  {
   "cell_type": "markdown",
   "id": "c0222ae8",
   "metadata": {},
   "source": [
    "## Question 6 :"
   ]
  },
  {
   "cell_type": "markdown",
   "id": "91257938",
   "metadata": {},
   "source": [
    "### Write a program to check if a Email meets the  criteria"
   ]
  },
  {
   "cell_type": "code",
   "execution_count": 19,
   "id": "da29f381",
   "metadata": {},
   "outputs": [
    {
     "name": "stdout",
     "output_type": "stream",
     "text": [
      "Enter email : sarah@gmail\n"
     ]
    }
   ],
   "source": [
    "email = input(\"Enter email : \")"
   ]
  },
  {
   "cell_type": "code",
   "execution_count": 20,
   "id": "df07052b",
   "metadata": {},
   "outputs": [
    {
     "name": "stdout",
     "output_type": "stream",
     "text": [
      "invalid email\n"
     ]
    }
   ],
   "source": [
    "if email.count(\"@\") != 1 or not email.endswith(\".com\"):\n",
    "    print(\"invalid email\")\n",
    "else :\n",
    "    print (\"valid email\")"
   ]
  }
 ],
 "metadata": {
  "kernelspec": {
   "display_name": "Python 3 (ipykernel)",
   "language": "python",
   "name": "python3"
  },
  "language_info": {
   "codemirror_mode": {
    "name": "ipython",
    "version": 3
   },
   "file_extension": ".py",
   "mimetype": "text/x-python",
   "name": "python",
   "nbconvert_exporter": "python",
   "pygments_lexer": "ipython3",
   "version": "3.12.3"
  }
 },
 "nbformat": 4,
 "nbformat_minor": 5
}
